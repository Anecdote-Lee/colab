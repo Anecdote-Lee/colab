{
  "nbformat": 4,
  "nbformat_minor": 0,
  "metadata": {
    "colab": {
      "name": "get_petition.ipynb",
      "provenance": []
    },
    "kernelspec": {
      "name": "python3",
      "display_name": "Python 3"
    },
    "widgets": {
      "application/vnd.jupyter.widget-state+json": {
        "27ea01f629e94b9380a6fcbd418124ea": {
          "model_module": "@jupyter-widgets/controls",
          "model_name": "HBoxModel",
          "state": {
            "_view_name": "HBoxView",
            "_dom_classes": [],
            "_model_name": "HBoxModel",
            "_view_module": "@jupyter-widgets/controls",
            "_model_module_version": "1.5.0",
            "_view_count": null,
            "_view_module_version": "1.5.0",
            "box_style": "",
            "layout": "IPY_MODEL_88c3dc8861c54beb8e4c270565b546b0",
            "_model_module": "@jupyter-widgets/controls",
            "children": [
              "IPY_MODEL_c52168ed278c40dd98ea31dae6491425",
              "IPY_MODEL_539bee66e9774815bc326bec79578f24"
            ]
          }
        },
        "88c3dc8861c54beb8e4c270565b546b0": {
          "model_module": "@jupyter-widgets/base",
          "model_name": "LayoutModel",
          "state": {
            "_view_name": "LayoutView",
            "grid_template_rows": null,
            "right": null,
            "justify_content": null,
            "_view_module": "@jupyter-widgets/base",
            "overflow": null,
            "_model_module_version": "1.2.0",
            "_view_count": null,
            "flex_flow": null,
            "width": null,
            "min_width": null,
            "border": null,
            "align_items": null,
            "bottom": null,
            "_model_module": "@jupyter-widgets/base",
            "top": null,
            "grid_column": null,
            "overflow_y": null,
            "overflow_x": null,
            "grid_auto_flow": null,
            "grid_area": null,
            "grid_template_columns": null,
            "flex": null,
            "_model_name": "LayoutModel",
            "justify_items": null,
            "grid_row": null,
            "max_height": null,
            "align_content": null,
            "visibility": null,
            "align_self": null,
            "height": null,
            "min_height": null,
            "padding": null,
            "grid_auto_rows": null,
            "grid_gap": null,
            "max_width": null,
            "order": null,
            "_view_module_version": "1.2.0",
            "grid_template_areas": null,
            "object_position": null,
            "object_fit": null,
            "grid_auto_columns": null,
            "margin": null,
            "display": null,
            "left": null
          }
        },
        "c52168ed278c40dd98ea31dae6491425": {
          "model_module": "@jupyter-widgets/controls",
          "model_name": "FloatProgressModel",
          "state": {
            "_view_name": "ProgressView",
            "style": "IPY_MODEL_2b4ead47ddd649bd8d5a43a3a8a2ce01",
            "_dom_classes": [],
            "description": "100%",
            "_model_name": "FloatProgressModel",
            "bar_style": "success",
            "max": 252,
            "_view_module": "@jupyter-widgets/controls",
            "_model_module_version": "1.5.0",
            "value": 252,
            "_view_count": null,
            "_view_module_version": "1.5.0",
            "orientation": "horizontal",
            "min": 0,
            "description_tooltip": null,
            "_model_module": "@jupyter-widgets/controls",
            "layout": "IPY_MODEL_ce39cea91d5a4c7a8ab2adbd0decbf10"
          }
        },
        "539bee66e9774815bc326bec79578f24": {
          "model_module": "@jupyter-widgets/controls",
          "model_name": "HTMLModel",
          "state": {
            "_view_name": "HTMLView",
            "style": "IPY_MODEL_f344d8fdfc2140bd8267d1ead0991c1b",
            "_dom_classes": [],
            "description": "",
            "_model_name": "HTMLModel",
            "placeholder": "​",
            "_view_module": "@jupyter-widgets/controls",
            "_model_module_version": "1.5.0",
            "value": " 252/252 [05:44&lt;00:00,  1.37s/it]",
            "_view_count": null,
            "_view_module_version": "1.5.0",
            "description_tooltip": null,
            "_model_module": "@jupyter-widgets/controls",
            "layout": "IPY_MODEL_8a6bf01edbd848e0ae21a231b105fbab"
          }
        },
        "2b4ead47ddd649bd8d5a43a3a8a2ce01": {
          "model_module": "@jupyter-widgets/controls",
          "model_name": "ProgressStyleModel",
          "state": {
            "_view_name": "StyleView",
            "_model_name": "ProgressStyleModel",
            "description_width": "initial",
            "_view_module": "@jupyter-widgets/base",
            "_model_module_version": "1.5.0",
            "_view_count": null,
            "_view_module_version": "1.2.0",
            "bar_color": null,
            "_model_module": "@jupyter-widgets/controls"
          }
        },
        "ce39cea91d5a4c7a8ab2adbd0decbf10": {
          "model_module": "@jupyter-widgets/base",
          "model_name": "LayoutModel",
          "state": {
            "_view_name": "LayoutView",
            "grid_template_rows": null,
            "right": null,
            "justify_content": null,
            "_view_module": "@jupyter-widgets/base",
            "overflow": null,
            "_model_module_version": "1.2.0",
            "_view_count": null,
            "flex_flow": null,
            "width": null,
            "min_width": null,
            "border": null,
            "align_items": null,
            "bottom": null,
            "_model_module": "@jupyter-widgets/base",
            "top": null,
            "grid_column": null,
            "overflow_y": null,
            "overflow_x": null,
            "grid_auto_flow": null,
            "grid_area": null,
            "grid_template_columns": null,
            "flex": null,
            "_model_name": "LayoutModel",
            "justify_items": null,
            "grid_row": null,
            "max_height": null,
            "align_content": null,
            "visibility": null,
            "align_self": null,
            "height": null,
            "min_height": null,
            "padding": null,
            "grid_auto_rows": null,
            "grid_gap": null,
            "max_width": null,
            "order": null,
            "_view_module_version": "1.2.0",
            "grid_template_areas": null,
            "object_position": null,
            "object_fit": null,
            "grid_auto_columns": null,
            "margin": null,
            "display": null,
            "left": null
          }
        },
        "f344d8fdfc2140bd8267d1ead0991c1b": {
          "model_module": "@jupyter-widgets/controls",
          "model_name": "DescriptionStyleModel",
          "state": {
            "_view_name": "StyleView",
            "_model_name": "DescriptionStyleModel",
            "description_width": "",
            "_view_module": "@jupyter-widgets/base",
            "_model_module_version": "1.5.0",
            "_view_count": null,
            "_view_module_version": "1.2.0",
            "_model_module": "@jupyter-widgets/controls"
          }
        },
        "8a6bf01edbd848e0ae21a231b105fbab": {
          "model_module": "@jupyter-widgets/base",
          "model_name": "LayoutModel",
          "state": {
            "_view_name": "LayoutView",
            "grid_template_rows": null,
            "right": null,
            "justify_content": null,
            "_view_module": "@jupyter-widgets/base",
            "overflow": null,
            "_model_module_version": "1.2.0",
            "_view_count": null,
            "flex_flow": null,
            "width": null,
            "min_width": null,
            "border": null,
            "align_items": null,
            "bottom": null,
            "_model_module": "@jupyter-widgets/base",
            "top": null,
            "grid_column": null,
            "overflow_y": null,
            "overflow_x": null,
            "grid_auto_flow": null,
            "grid_area": null,
            "grid_template_columns": null,
            "flex": null,
            "_model_name": "LayoutModel",
            "justify_items": null,
            "grid_row": null,
            "max_height": null,
            "align_content": null,
            "visibility": null,
            "align_self": null,
            "height": null,
            "min_height": null,
            "padding": null,
            "grid_auto_rows": null,
            "grid_gap": null,
            "max_width": null,
            "order": null,
            "_view_module_version": "1.2.0",
            "grid_template_areas": null,
            "object_position": null,
            "object_fit": null,
            "grid_auto_columns": null,
            "margin": null,
            "display": null,
            "left": null
          }
        }
      }
    }
  },
  "cells": [
    {
      "cell_type": "markdown",
      "metadata": {
        "id": "d1i7pyLvcyBE"
      },
      "source": [
        "# 국민청원 데이터 가져오기"
      ]
    },
    {
      "cell_type": "markdown",
      "metadata": {
        "id": "ftYybXggcudF"
      },
      "source": [
        "\n",
        "- 참고:\n",
        "  - [국민청원 데이터셋 CSV](https://newhiwoong.github.io/%EA%B5%AD%EB%AF%BC%EC%B2%AD%EC%9B%90/%EA%B5%AD%EB%AF%BC%EC%B2%AD%EC%9B%90-%EB%8D%B0%EC%9D%B4%ED%84%B0%EC%85%8B)\n",
        "  - [청와대 국민청원 https://www1.president.go.kr/petitions](https://www1.president.go.kr/petitions)\n",
        "  - [Using Selenium with Google Colaboratory https://darektidwell.com/using-selenium-with-google-colaboratory/](https://darektidwell.com/using-selenium-with-google-colaboratory/)\n",
        "  - [https://stackoverflow.com/questions/56829470/selenium-google-colab-error-chromedriver-executable-needs-to-be-in-path](https://stackoverflow.com/questions/56829470/selenium-google-colab-error-chromedriver-executable-needs-to-be-in-path)\n",
        " \n",
        "- 참고링크 중 \"국민청원 데이터셋 CSV\"의 내용을 토대로 수정하여 작성\n",
        "- 1건당 1-2초(google colab에서 더 느림, 실 사용은 로컬을 권장함)"
      ]
    },
    {
      "cell_type": "markdown",
      "metadata": {
        "id": "_7Bh5kPddKKx"
      },
      "source": [
        "## 확인된 에러의 경우 \n",
        "1. 없는 페이지\n",
        "2. 관리자 차단 페이지"
      ]
    },
    {
      "cell_type": "code",
      "metadata": {
        "id": "T7v_K1bAgNtJ",
        "colab": {
          "base_uri": "https://localhost:8080/"
        },
        "outputId": "be180be1-bba7-43e0-8e8d-404b96ec2459"
      },
      "source": [
        "import sys\n",
        "\n",
        "# install chromium, its driver, and selenium\n",
        "if 'google.colab' in sys.modules:\n",
        "    !apt-get update\n",
        "    !apt install chromium-chromedriver\n",
        "    !cp /usr/lib/chromium-browser/chromedriver /usr/bin\n",
        "    !pip install selenium\n",
        "\n",
        "# set options to be headless, ..\n",
        "from selenium import webdriver\n",
        "from selenium.webdriver.common.by import By\n",
        "from selenium.webdriver.support.ui import WebDriverWait\n",
        "from selenium.webdriver.support import expected_conditions as EC\n",
        "\n",
        "from bs4 import BeautifulSoup\n",
        "import time\n",
        "import re\n",
        "\n",
        "if 'ipykernel' in sys.modules:\n",
        "    from tqdm import tqdm_notebook as tqdm\n",
        "else:\n",
        "    from tqdm import tqdm"
      ],
      "execution_count": 3,
      "outputs": [
        {
          "output_type": "stream",
          "text": [
            "\r0% [Working]\r            \rGet:1 http://security.ubuntu.com/ubuntu bionic-security InRelease [88.7 kB]\n",
            "Ign:2 https://developer.download.nvidia.com/compute/cuda/repos/ubuntu1804/x86_64  InRelease\n",
            "Get:3 https://cloud.r-project.org/bin/linux/ubuntu bionic-cran40/ InRelease [3,626 B]\n",
            "Ign:4 https://developer.download.nvidia.com/compute/machine-learning/repos/ubuntu1804/x86_64  InRelease\n",
            "Get:5 https://developer.download.nvidia.com/compute/cuda/repos/ubuntu1804/x86_64  Release [697 B]\n",
            "Get:6 http://ppa.launchpad.net/c2d4u.team/c2d4u4.0+/ubuntu bionic InRelease [15.9 kB]\n",
            "Hit:7 https://developer.download.nvidia.com/compute/machine-learning/repos/ubuntu1804/x86_64  Release\n",
            "Hit:8 http://archive.ubuntu.com/ubuntu bionic InRelease\n",
            "Get:9 https://developer.download.nvidia.com/compute/cuda/repos/ubuntu1804/x86_64  Release.gpg [836 B]\n",
            "Get:10 http://archive.ubuntu.com/ubuntu bionic-updates InRelease [88.7 kB]\n",
            "Hit:11 http://ppa.launchpad.net/cran/libgit2/ubuntu bionic InRelease\n",
            "Get:12 http://security.ubuntu.com/ubuntu bionic-security/restricted amd64 Packages [510 kB]\n",
            "Get:13 http://security.ubuntu.com/ubuntu bionic-security/universe amd64 Packages [1,420 kB]\n",
            "Hit:14 http://ppa.launchpad.net/deadsnakes/ppa/ubuntu bionic InRelease\n",
            "Get:15 http://archive.ubuntu.com/ubuntu bionic-backports InRelease [74.6 kB]\n",
            "Get:16 http://security.ubuntu.com/ubuntu bionic-security/main amd64 Packages [2,263 kB]\n",
            "Get:17 https://cloud.r-project.org/bin/linux/ubuntu bionic-cran40/ Packages [62.9 kB]\n",
            "Get:18 http://security.ubuntu.com/ubuntu bionic-security/multiverse amd64 Packages [26.7 kB]\n",
            "Get:19 http://ppa.launchpad.net/graphics-drivers/ppa/ubuntu bionic InRelease [21.3 kB]\n",
            "Ign:21 https://developer.download.nvidia.com/compute/cuda/repos/ubuntu1804/x86_64  Packages\n",
            "Get:21 https://developer.download.nvidia.com/compute/cuda/repos/ubuntu1804/x86_64  Packages [695 kB]\n",
            "Get:22 http://ppa.launchpad.net/c2d4u.team/c2d4u4.0+/ubuntu bionic/main Sources [1,786 kB]\n",
            "Get:23 http://archive.ubuntu.com/ubuntu bionic-updates/multiverse amd64 Packages [39.4 kB]\n",
            "Get:24 http://archive.ubuntu.com/ubuntu bionic-updates/universe amd64 Packages [2,195 kB]\n",
            "Get:25 http://ppa.launchpad.net/c2d4u.team/c2d4u4.0+/ubuntu bionic/main amd64 Packages [914 kB]\n",
            "Get:26 http://archive.ubuntu.com/ubuntu bionic-updates/main amd64 Packages [2,698 kB]\n",
            "Get:27 http://archive.ubuntu.com/ubuntu bionic-updates/restricted amd64 Packages [544 kB]\n",
            "Get:28 http://ppa.launchpad.net/graphics-drivers/ppa/ubuntu bionic/main amd64 Packages [44.1 kB]\n",
            "Fetched 13.5 MB in 4s (3,553 kB/s)\n",
            "Reading package lists... Done\n",
            "Reading package lists... Done\n",
            "Building dependency tree       \n",
            "Reading state information... Done\n",
            "The following additional packages will be installed:\n",
            "  chromium-browser chromium-browser-l10n chromium-codecs-ffmpeg-extra\n",
            "Suggested packages:\n",
            "  webaccounts-chromium-extension unity-chromium-extension\n",
            "The following NEW packages will be installed:\n",
            "  chromium-browser chromium-browser-l10n chromium-chromedriver\n",
            "  chromium-codecs-ffmpeg-extra\n",
            "0 upgraded, 4 newly installed, 0 to remove and 94 not upgraded.\n",
            "Need to get 86.0 MB of archives.\n",
            "After this operation, 298 MB of additional disk space will be used.\n",
            "Get:1 http://archive.ubuntu.com/ubuntu bionic-updates/universe amd64 chromium-codecs-ffmpeg-extra amd64 91.0.4472.101-0ubuntu0.18.04.1 [1,124 kB]\n",
            "Get:2 http://archive.ubuntu.com/ubuntu bionic-updates/universe amd64 chromium-browser amd64 91.0.4472.101-0ubuntu0.18.04.1 [76.1 MB]\n",
            "Get:3 http://archive.ubuntu.com/ubuntu bionic-updates/universe amd64 chromium-browser-l10n all 91.0.4472.101-0ubuntu0.18.04.1 [3,937 kB]\n",
            "Get:4 http://archive.ubuntu.com/ubuntu bionic-updates/universe amd64 chromium-chromedriver amd64 91.0.4472.101-0ubuntu0.18.04.1 [4,837 kB]\n",
            "Fetched 86.0 MB in 4s (19.5 MB/s)\n",
            "Selecting previously unselected package chromium-codecs-ffmpeg-extra.\n",
            "(Reading database ... 160837 files and directories currently installed.)\n",
            "Preparing to unpack .../chromium-codecs-ffmpeg-extra_91.0.4472.101-0ubuntu0.18.04.1_amd64.deb ...\n",
            "Unpacking chromium-codecs-ffmpeg-extra (91.0.4472.101-0ubuntu0.18.04.1) ...\n",
            "Selecting previously unselected package chromium-browser.\n",
            "Preparing to unpack .../chromium-browser_91.0.4472.101-0ubuntu0.18.04.1_amd64.deb ...\n",
            "Unpacking chromium-browser (91.0.4472.101-0ubuntu0.18.04.1) ...\n",
            "Selecting previously unselected package chromium-browser-l10n.\n",
            "Preparing to unpack .../chromium-browser-l10n_91.0.4472.101-0ubuntu0.18.04.1_all.deb ...\n",
            "Unpacking chromium-browser-l10n (91.0.4472.101-0ubuntu0.18.04.1) ...\n",
            "Selecting previously unselected package chromium-chromedriver.\n",
            "Preparing to unpack .../chromium-chromedriver_91.0.4472.101-0ubuntu0.18.04.1_amd64.deb ...\n",
            "Unpacking chromium-chromedriver (91.0.4472.101-0ubuntu0.18.04.1) ...\n",
            "Setting up chromium-codecs-ffmpeg-extra (91.0.4472.101-0ubuntu0.18.04.1) ...\n",
            "Setting up chromium-browser (91.0.4472.101-0ubuntu0.18.04.1) ...\n",
            "update-alternatives: using /usr/bin/chromium-browser to provide /usr/bin/x-www-browser (x-www-browser) in auto mode\n",
            "update-alternatives: using /usr/bin/chromium-browser to provide /usr/bin/gnome-www-browser (gnome-www-browser) in auto mode\n",
            "Setting up chromium-chromedriver (91.0.4472.101-0ubuntu0.18.04.1) ...\n",
            "Setting up chromium-browser-l10n (91.0.4472.101-0ubuntu0.18.04.1) ...\n",
            "Processing triggers for man-db (2.8.3-2ubuntu0.1) ...\n",
            "Processing triggers for hicolor-icon-theme (0.17-2) ...\n",
            "Processing triggers for mime-support (3.60ubuntu1) ...\n",
            "Processing triggers for libc-bin (2.27-3ubuntu1.2) ...\n",
            "/sbin/ldconfig.real: /usr/local/lib/python3.7/dist-packages/ideep4py/lib/libmkldnn.so.0 is not a symbolic link\n",
            "\n",
            "cp: '/usr/lib/chromium-browser/chromedriver' and '/usr/bin/chromedriver' are the same file\n",
            "Collecting selenium\n",
            "  Downloading selenium-3.141.0-py2.py3-none-any.whl (904 kB)\n",
            "\u001b[K     |████████████████████████████████| 904 kB 5.3 MB/s \n",
            "\u001b[?25hRequirement already satisfied: urllib3 in /usr/local/lib/python3.7/dist-packages (from selenium) (1.24.3)\n",
            "Installing collected packages: selenium\n",
            "Successfully installed selenium-3.141.0\n"
          ],
          "name": "stdout"
        }
      ]
    },
    {
      "cell_type": "code",
      "metadata": {
        "id": "Ue63QSAXIddm"
      },
      "source": [
        "options = webdriver.ChromeOptions()\n",
        "options.add_argument('--headless')\n",
        "options.add_argument('--no-sandbox')\n",
        "options.add_argument('--disable-dev-shm-usage')"
      ],
      "execution_count": 4,
      "outputs": []
    },
    {
      "cell_type": "code",
      "metadata": {
        "id": "roE_ee6VtFEL"
      },
      "source": [
        "def get_petition(wd, number):\n",
        "    base_url='https://www1.president.go.kr/petitions/'\n",
        "    try:\n",
        "        wd.get(base_url+str(number))\n",
        "        element = WebDriverWait(wd, 2).until(\n",
        "            EC.presence_of_element_located((By.CLASS_NAME, 'petitionsView_title')))\n",
        "        #bs = BeautifulSoup(wd.page_source, 'html.parser')\n",
        "        bs = BeautifulSoup(wd.page_source, 'lxml')\n",
        "        progress = bs.find('div',{'class':'petitionsView_progress'}).get_text().strip()\n",
        "        title = bs.find('h3',{'class':'petitionsView_title'}).get_text().strip()\n",
        "        like = bs.find('h2',{'class':'petitionsView_count'}).get_text().strip()\n",
        "        like = int(''.join(re.findall('\\d+', str(like))))\n",
        "\n",
        "        if progress == '답변완료':\n",
        "            contlist = bs.find_all('div',{'class':'View_write'})\n",
        "            len_contlist = len(bs.find_all('div',{'class':'View_write'}))\n",
        "            contents = bs.find_all('div',{'class':'View_write'})[len_contlist-1].get_text().strip()\n",
        "            answer = bs.find_all('div',{'class':'pr_tk25'})[len_contlist-1].get_text().strip()[4:].strip()\n",
        "        else:\n",
        "            contents = bs.find('div',{'class':'View_write'}).get_text().strip()\n",
        "            answer = ''\n",
        "\n",
        "        info = bs.find('ul',{'class':'petitionsView_info_list'}).get_text().split('\\n')\n",
        "        category = info[1][4:]\n",
        "        sday = info[2][4:]\n",
        "        eday = info[3][4:]\n",
        "        proponent = info[4][3:].split()[0]\n",
        "        return {'number':number, 'progress':progress, 'title':title,  'like':like,\n",
        "                'contents':contents, 'answer':answer, 'category':category,\n",
        "                'sday':sday, 'eday':eday, 'proponent':proponent}\n",
        "    except Exception as e:\n",
        "        print(number, e)\n",
        "        return {'number':number, 'progress':'error', 'title':'',  'like':0,\n",
        "                'contents':str(e), 'answer':'', 'category':'',\n",
        "                'sday':'', 'eday':'', 'proponent':''}"
      ],
      "execution_count": 9,
      "outputs": []
    },
    {
      "cell_type": "code",
      "metadata": {
        "id": "v0tAtHFdtqHB",
        "colab": {
          "base_uri": "https://localhost:8080/"
        },
        "outputId": "7fefaed1-7ec5-47f7-e117-be2b7350565a"
      },
      "source": [
        "if __name__ == '__main__' or 'google.colab' in sys.modules:\n",
        "    wd = webdriver.Chrome('chromedriver',options=options)\n",
        "    print(get_petition(wd, 598683))\n",
        "    print(get_petition(wd, 582349))\n",
        "    wd.quit()"
      ],
      "execution_count": 7,
      "outputs": [
        {
          "output_type": "stream",
          "text": [
            "point 1\n",
            "한강 실종 대학생 *** 학생의 억울한 죽음에 대한 진상 규명 부탁드립니다.\n",
            "\n",
            "한강 실종 대학생 ***군의 사망사건 모르는사람이 없을 듯 합니다. 너무 너무 안타까운 사건인데요.\n",
            "\n",
            "이 학생의 죽음은 사고가 아닌 사건인듯 합니다.\n",
            "누가들어도 이상한 ***군과 같이있던 친구의 진술, 그리고 경찰측에서는 제일 사건사고에 연관성이 있어보이는듯한 친구는 조사를 하지않고, 목격자만 찾고있다고하네요.\n",
            "\n",
            "현재 그 친구와 부모님은..\n",
            "핸드폰 제출도 거부하며, 장례식장에도 나타나지 않았으며, 아파트 씨씨티비공개거부, 차량블랙박스도 공개 거부하는 상태라고합니다.\n",
            "그 날 신고있던 운동화도 버렸다고하는데요.\n",
            "\n",
            "\n",
            "누가봐도 이상한 이 사건, 왜 경찰은 그 시간대까지 같이 술먹고 함께있던 ***군의 친구는 조사를 하지않고, 목격자만 찾고있는 확실한 진실 규명이 필요합니다. 고 ***군과 남아있는 ***군의 부모님의 억울함을 풀어주세요.\n",
            "\n",
            " [본 게시물의 일부 내용이 국민 청원 요건에 위배되어 관리자에 의해 수정되었습니다]\n",
            "point 3\n",
            "point 4\n",
            "{'number': 598683, 'progress': '답변완료', 'title': '한강 실종 대학생 고 ***군의 억울함을 풀어주세요.', 'like': 521867, 'contents': '한강 실종 대학생 *** 학생의 억울한 죽음에 대한 진상 규명 부탁드립니다.\\n\\n한강 실종 대학생 ***군의 사망사건 모르는사람이 없을 듯 합니다. 너무 너무 안타까운 사건인데요.\\n\\n이 학생의 죽음은 사고가 아닌 사건인듯 합니다.\\n누가들어도 이상한 ***군과 같이있던 친구의 진술, 그리고 경찰측에서는 제일 사건사고에 연관성이 있어보이는듯한 친구는 조사를 하지않고, 목격자만 찾고있다고하네요.\\n\\n현재 그 친구와 부모님은..\\n핸드폰 제출도 거부하며, 장례식장에도 나타나지 않았으며, 아파트 씨씨티비공개거부, 차량블랙박스도 공개 거부하는 상태라고합니다.\\n그 날 신고있던 운동화도 버렸다고하는데요.\\n\\n\\n누가봐도 이상한 이 사건, 왜 경찰은 그 시간대까지 같이 술먹고 함께있던 ***군의 친구는 조사를 하지않고, 목격자만 찾고있는 확실한 진실 규명이 필요합니다. 고 ***군과 남아있는 ***군의 부모님의 억울함을 풀어주세요.\\n\\n [본 게시물의 일부 내용이 국민 청원 요건에 위배되어 관리자에 의해 수정되었습니다]', 'answer': '<한강 실종 대학생 사망사건> 관련 국민청원에 답합니다.\\n\\n청원인께서는 한강 실종 대학생의 죽음에 대한 진상 규명을 청원하셨습니다. 해당 청원에는 52만 여명의 국민께서 동의해 주셨습니다.\\n\\n답변에 앞서 고인의 명복을 빌며, 유가족분들께 깊은 위로의 말씀을 드립니다.\\n\\n지난 4월 30일 故 손정민 군이 한강에서 사망한 채 발견된 후, 경찰은 사인 및 사망 경위를 밝히기 위해 서초경찰서 강력 7개 팀을 전부 투입하여 총 126대의 CCTV 분석, 공원 출입차량 193대 확보, 주요 목격자 16명 조사, 현장 수중구조와 토양 분석, 관련자들의 통화내역 분석과 휴대전화 디지털포렌식, 변사자 등의 당시 착용 의류 국과수 감정, 기동대·한강순찰대 등을 동원한 현장 수색 등 당일 상황 재구성을 위해 최선을 다하였습니다.\\n\\n현재까지 수사한 사항에 따르면 변사자의 사망이 범죄와 관련된 정황은 확인되지 않았습니다. 또한, 절차에 따라 분야별 민간 전문가를 포함해 총 8명으로 구성된 변사사건 심의위원회를 개최하여, 보강 수사 필요성과 변사사건 종결 여부를 종합적으로 심의한 후 해당 사건은 종결하는 것으로 결정하였습니다.\\n\\n다만 경찰은 변사사건 종결과 별도로, 강력 1개 팀을 지정하여 변사자의 사망 전 마지막 행적 등을 계속 확인하고 있습니다.\\n\\n경찰은 국민의 안전을 지키는 데 최선을 다하겠습니다.\\n\\n국민청원에 함께해 주신 국민 여러분께 감사드립니다.', 'category': '인권/성평등', 'sday': '2021-05-28', 'eday': '2021-06-27', 'proponent': 'naver'}\n",
            "point 1\n",
            "나경원 자한당 원내대표의 각종 의혹ㆍ논란들이\n",
            "일파만파 번지고 있습니다.\n",
            "\n",
            "야권정치인의 실세인만큼 의혹이 말끔히 해소되려면\n",
            "야당이 그토록 강조하는 정치적 중립성을 보다 강조하기 위해서는 현정권의 하에 있는 검찰보다 나경원 의원이 좋아하는 특검을 설치하여 모든 의혹을 말끔히 해소하는게 나경원 원내대표도 바라마지 않을것입니다.\n",
            "\n",
            "이에 특검수사를 요청합니다.\n",
            "point 3\n",
            "point 4\n",
            "{'number': 582349, 'progress': '답변완료', 'title': '나경원 자한당 원내대표의 각종 의혹에 대한 특검 요청!', 'like': 365040, 'contents': '나경원 자한당 원내대표의 각종 의혹ㆍ논란들이\\n일파만파 번지고 있습니다.\\n\\n야권정치인의 실세인만큼 의혹이 말끔히 해소되려면\\n야당이 그토록 강조하는 정치적 중립성을 보다 강조하기 위해서는 현정권의 하에 있는 검찰보다 나경원 의원이 좋아하는 특검을 설치하여 모든 의혹을 말끔히 해소하는게 나경원 원내대표도 바라마지 않을것입니다.\\n\\n이에 특검수사를 요청합니다.', 'answer': '다음은 나경원 자유한국당 원내대표의 각종 의혹에 대해 특검을 요청하신 청원에 대해 답변드리겠습니다.\\n본 청원은 8월 28일부터 한 달간 36만 여명의 국민께서 동의해 주셨습니다.\\n\\n청원의 계기가 된 것은 누리꾼 사이에서 불거진 나경원 의원의 자녀에 대한 의혹입니다. 국적 의혹, 논문의 제1저자 특혜 의혹 등과 관련된 다수의 언론 보도가 있었습니다.\\n\\n청원인께서는 나경원 자유한국당 원내대표가 야권의 대표 정치인인만큼 정치적 중립성을 보장하기 위해 특별검사를 통해 의혹을 말끔히 해소할 필요가 있다고 주장하셨습니다.\\n\\n먼저 청원인께서 요구하신 특별검사제도에 대하여 설명드리겠습니다.\\n\\n특별 검사 제도는, 주로 고위 공직자의 비리 또는 위법 혐의가 발견되었을 때 그 수사와 기소를 정권의 영향을 받을 수 있는 정규 검사가 아닌 ‘독립된 변호사’로 담당하게 하는 제도입니다.\\n특별 검사 제도는 특정 사건에 한정하여 검찰 등 행정부와는 독립된 사람에게 수사 및 기소 등 검사 역할을 수행하도록 하는 제도입니다.\\n\\n우리나라의 특검제는 정치적 사건이나 권력형 범죄와 비리 사건에서 나타난 검찰 수사의 소극성 또는 편향성에 대한 제도적 보완으로 1988년 당시 야당이던 평화민주당에 의해 처음 제기되었습니다. 그 이후 10년 이상의 논의를 거쳐 1999년에 특검제가 도입되었습니다. 또한 2014년에는 상설 특검을 도입하는 내용을 담은 ‘특별검사의 임명 등에 관한 법률’이 제정되었습니다.\\n\\n특검은 △ 국회가 정치적 중립성과 공정성 등을 이유로 특별검사의 수사가 필요하다고 판단하여 본회의에서 의결하거나 △ 법무부 장관이 정부 고위공직자의 비리를 대상으로 이해관계 충돌이나 공정성 등을 이유로 특검의 수사가 필요하다고 판단할 경우 발동될 수 있습니다. 후자의 경우, 다시 말해 법무부 장관이 특검 여부를 판단하는 경우, 법무부 장관은 반드시 검찰총장의 의견을 들어야 합니다.\\n\\n본 청원의 경우, 청원인께서는 나경원 자유한국당 원내대표의 자녀관련 의혹을 밝히는 특검을 요구하셨습니다. 그러나 본 건과 관련해 특별검사의 도입 여부는 국회에서 논의하여 결정해야 할 사안입니다. 법무부 장관이 정부와 무관한 사안에 대해 특검을 발동할 수는 없기 때문입니다.\\n\\n지난 9월 한 시민단체는 나경원 자유한국당 의원의 ‘자녀입시 의혹’과 관련하여 검찰에 이를 고발하였습니다. 그 이후 본 사건은 현재 검찰에서 수사 중입니다. 따라서 검찰의 수사 결과를 지켜봐야 하는 상황입니다.\\n\\n최근 부모의 특권적 지위를 이용하여 입시제도에서 혜택을 받은 경우에 대해 국민적 우려는 물론, 입시제도에서의 공정성, 사회적 불평등 해소에 대한 국민의 요구가 높습니다. 이러한 국민의 목소리를 반영하여 교육부에서는 학생부종합전형 전면 실태조사를 엄정하게 추진하고 있으며, 나아가 고교 서열화 해소를 위한 방안 등 입시제도 개편안을 준비하고 있습니다.\\n\\n또한 국회에서도 최근『국회의원 자녀의 대학입학전형과정 조사에 관한 특별법』『고위공직자 자녀 입시비리 조사를 위한 특별법』등 관련 법안이 발의되었습니다. 이 법안은 입시비리에 대한 전수조사 특별위원회를 구성하여 고위공직자의 자녀에 대한 특혜를 조사하고 결과에 따라 고발 및 수사요청, 감사원 감사요구 등을 실시하는 내용 등을 담고 있습니다.\\n\\n정부는 본 청원을 계기로 국회의원을 비롯한 사회 특권층, 그리고 이들 자녀의 입시 특혜 등 다양한 불공정에 대한 국민적 우려와 공정에 대한 강력한 열망을 다시 한 번 절감하였습니다. 이 점에 대해 청원인과 청원에 참여해 주신 국민께 깊이 감사드립니다.\\n\\n정부는 우리 사회에 만연한 특권과 반칙, 불공정을 없애고, 나아가서 제도에 내재 된 합법적인 불공정과 특권까지 근본적으로 바꿔낼 수 있도록 더욱 노력하겠습니다.\\n\\n오늘 답변은 여기서 마치겠습니다. 감사합니다.', 'category': '정치개혁', 'sday': '2019-08-28', 'eday': '2019-09-27', 'proponent': 'naver'}\n"
          ],
          "name": "stdout"
        }
      ]
    },
    {
      "cell_type": "markdown",
      "metadata": {
        "id": "KNvyGFVlKO-R"
      },
      "source": [
        "## 사용예"
      ]
    },
    {
      "cell_type": "code",
      "metadata": {
        "id": "Alk5_gAHlPq5",
        "colab": {
          "base_uri": "https://localhost:8080/",
          "height": 211,
          "referenced_widgets": [
            "27ea01f629e94b9380a6fcbd418124ea",
            "88c3dc8861c54beb8e4c270565b546b0",
            "c52168ed278c40dd98ea31dae6491425",
            "539bee66e9774815bc326bec79578f24",
            "2b4ead47ddd649bd8d5a43a3a8a2ce01",
            "ce39cea91d5a4c7a8ab2adbd0decbf10",
            "f344d8fdfc2140bd8267d1ead0991c1b",
            "8a6bf01edbd848e0ae21a231b105fbab"
          ]
        },
        "outputId": "5df7677b-1794-4c75-9ea2-2f8fd7cbbf28"
      },
      "source": [
        "import pandas as pd\n",
        "\n",
        "nums_list = [598683, 598794, 598497, 598424, 598340, 598291, 598239, 598232, 597991, 597851, 598240, 598123, 597775, 597854, 597687, 597490, 597240, 597744, 597214, 597157, 595180, 597220, 595551, 595630, 595595, 595454, 595214, 594987, 594995, 594944, 594707, 594474, 594746, 594410, 594259, 594227, 595305, 595321, 595304, 595310, 594102, 594108, 594063, 593979, 593728, 593519, 594131, 593228, 593230, 592978, 592804, 593227, 592340, 592609, 592173, 592153, 591978, 591956, 592276, 592084, 591700, 591675, 591808, 590970, 590966, 590879, 591074, 590746, 590550, 590504, 590416, 590341, 589941, 589634, 590258, 588752, 588455, 588340, 587827, 587624, 587604, 587334, 587169, 586926, 587323, 587335, 587130, 586941, 586860, 585007, 586878, 587352, 586650, 586609, 585926, 585665, 586110, 585083, 584936, 585683, 585682, 585795, 585290, 585610, 586819, 586880, 586885, 586879, 586522, 584593, 584755, 584335, 584284, 584204, 583841, 583605, 583274, 583677, 583122, 583346, 583543, 583272, 583277, 583190, 583076, 583046, 582785, 582620, 582349, 582351, 582301, 581667, 582070, 582019, 582190, 581808, 581713, 581380, 581384, 581300, 581465, 580884, 580402, 580452, 579523, 580325, 580707, 580639, 579840, 579612, 579708, 579682, 579779, 579927, 579401, 579585, 577697, 570236, 561699, 579353, 579426, 541615, 534182, 578761, 410524, 559071, 553263, 511075, 510422, 527553, 531087, 530372, 512112, 489302, 522031, 472309, 408154, 462340, 454045, 449519, 462618, 462623, 437737, 442093, 446686, 426349, 436901, 418376, 412722, 411485, 410447, 445550, 414891, 426834, 408609, 417147, 398030, 384676, 397558, 395955, 369690, 322420, 314584, 294226, 282903, 281200, 272632, 284845, 273112, 269548, 242950, 246489, 244045, 270921, 236397, 231701, 199622, 219348, 199778, 201953, 187633, 178781, 235102, 173355, 230552, 174292, 164255, 203181, 165796, 148613, 157046, 151430, 141333, 134590, 148806, 113699, 95138, 101349, 96427, 105105, 142600, 79162, 81026, 127921, 76020, 57132, 49083, 45581, 10949, 26024, 18278, 1785]\n",
        "\n",
        "def get_p(num = 583432, cnt = 10):\n",
        "    rtn = []\n",
        "    wd = webdriver.Chrome('chromedriver',options=options)\n",
        "    # for idx, i in enumerate(tqdm(range(num-cnt, num))):\n",
        "    for idx, i in enumerate(tqdm(nums_list)):\n",
        "        tmp = get_petition(wd, i)\n",
        "        if idx == 0:\n",
        "            rtn_c = list(tmp.keys())\n",
        "        rtn.append(list(tmp.values()))\n",
        "        # 오래 유지될경우 느려지는 경향이 있어 중간에 초기화\n",
        "        if idx % 200 == 0:\n",
        "            wd.quit()\n",
        "            wd = webdriver.Chrome('chromedriver',options=options)\n",
        "    # for idx, i in enumerate(nums_list):\n",
        "    #     print(i)\n",
        "    #     tmp = get_petition(wd, i)\n",
        "    #     if idx == 0:\n",
        "    #         rtn_c = list(tmp.keys())\n",
        "    #     rtn.append(list(tmp.values()))\n",
        "    #     # 오래 유지될경우 느려지는 경향이 있어 중간에 초기화\n",
        "    #     if idx % 200 == 0:\n",
        "    #         wd.quit()\n",
        "    #         wd = webdriver.Chrome('chromedriver',options=options)\n",
        "\n",
        "    return (rtn_c, rtn)\n",
        "\n",
        "\n",
        "c, rtn = get_p()\n",
        "%time wd = webdriver.Chrome('chromedriver',options=options)\n",
        "# %time rtn.append(list(get_petition(wd, 582349).values()))\n",
        "# %time rtn.append(list(get_petition(wd, 10).values()))\n",
        "wd.quit()\n",
        "result = pd.DataFrame(rtn, columns=c)\n",
        "result.to_csv(\"petitions.csv\", encoding='utf-8-sig')"
      ],
      "execution_count": 11,
      "outputs": [
        {
          "output_type": "stream",
          "text": [
            "/usr/local/lib/python3.7/dist-packages/ipykernel_launcher.py:9: TqdmDeprecationWarning: This function will be removed in tqdm==5.0.0\n",
            "Please use `tqdm.notebook.tqdm` instead of `tqdm.tqdm_notebook`\n",
            "  if __name__ == '__main__':\n"
          ],
          "name": "stderr"
        },
        {
          "output_type": "display_data",
          "data": {
            "application/vnd.jupyter.widget-view+json": {
              "model_id": "27ea01f629e94b9380a6fcbd418124ea",
              "version_minor": 0,
              "version_major": 2
            },
            "text/plain": [
              "HBox(children=(FloatProgress(value=0.0, max=252.0), HTML(value='')))"
            ]
          },
          "metadata": {
            "tags": []
          }
        },
        {
          "output_type": "stream",
          "text": [
            "436901 list index out of range\n",
            "418376 list index out of range\n",
            "412722 list index out of range\n",
            "\n",
            "CPU times: user 12.5 ms, sys: 6.1 ms, total: 18.6 ms\n",
            "Wall time: 1.27 s\n"
          ],
          "name": "stdout"
        }
      ]
    },
    {
      "cell_type": "markdown",
      "metadata": {
        "id": "k73KCJ31l38S"
      },
      "source": [
        "[https://www1.president.go.kr/petitions/10](https://www1.president.go.kr/petitions/10)\n",
        "- 관리자에 의해 비공개된 청원입니다"
      ]
    }
  ]
}